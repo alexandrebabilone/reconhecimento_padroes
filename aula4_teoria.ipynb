{
 "metadata": {
  "language_info": {
   "codemirror_mode": {
    "name": "ipython",
    "version": 3
   },
   "file_extension": ".py",
   "mimetype": "text/x-python",
   "name": "python",
   "nbconvert_exporter": "python",
   "pygments_lexer": "ipython3",
   "version": "3.8.3-final"
  },
  "orig_nbformat": 2,
  "kernelspec": {
   "name": "python3",
   "display_name": "Python 3.8.3 64-bit (conda)",
   "metadata": {
    "interpreter": {
     "hash": "b3ba2566441a7c06988d0923437866b63cedc61552a5af99d1f4fb67d367b25f"
    }
   }
  }
 },
 "nbformat": 4,
 "nbformat_minor": 2,
 "cells": [
  {
   "cell_type": "code",
   "execution_count": 200,
   "metadata": {},
   "outputs": [
    {
     "output_type": "stream",
     "name": "stdout",
     "text": [
      "dict_keys(['data', 'target', 'frame', 'DESCR', 'feature_names', 'data_filename', 'target_filename'])\n"
     ]
    },
    {
     "output_type": "execute_result",
     "data": {
      "text/plain": [
       "((442, 10), (442,))"
      ]
     },
     "metadata": {},
     "execution_count": 200
    }
   ],
   "source": [
    "import numpy as np\n",
    "from math import sqrt\n",
    "from sklearn.metrics import mean_squared_error, make_scorer\n",
    "from sklearn.model_selection import cross_validate\n",
    "from sklearn.neighbors import KNeighborsRegressor\n",
    "from sklearn.linear_model import LogisticRegression\n",
    "from sklearn.datasets import load_iris, load_diabetes\n",
    "from sklearn.model_selection import GridSearchCV\n",
    "from sklearn.preprocessing import StandardScaler\n",
    "from sklearn.pipeline import Pipeline\n",
    "\n",
    "dataset = load_diabetes()\n",
    "print(diabetes.keys())\n",
    "X, y = dataset.data, dataset.target\n",
    "X.shape, y.shape"
   ]
  },
  {
   "cell_type": "code",
   "execution_count": 201,
   "metadata": {},
   "outputs": [],
   "source": [
    "#Usando apenas Cross Validate"
   ]
  },
  {
   "cell_type": "code",
   "execution_count": 202,
   "metadata": {},
   "outputs": [
    {
     "output_type": "stream",
     "name": "stdout",
     "text": [
      "[56.2778101  63.42066441 59.63695849 59.59086644 61.70551029]\nSem padronização: 60.126361947859564\n"
     ]
    }
   ],
   "source": [
    "classificador_knn = KNeighborsRegressor()\n",
    "\n",
    "scores_cv = cross_validate(classificador_knn, X, y, scoring=make_scorer(mean_squared_error, squared=False))\n",
    "print(scores_cv['test_score'])\n",
    "sempad = np.mean(scores_cv['test_score'])\n",
    "print(f\"Sem padronização: {sempad}\")"
   ]
  },
  {
   "cell_type": "code",
   "execution_count": 203,
   "metadata": {},
   "outputs": [
    {
     "output_type": "stream",
     "name": "stdout",
     "text": [
      "[ 72.28944629  68.2585962   87.86540585 113.62068074  72.8651463 ]\nSem padronização: 82.9798550755253\n"
     ]
    }
   ],
   "source": [
    "classificador_lr = LogisticRegression()\n",
    "\n",
    "scores_cv = cross_validate(classificador_lr, X, y, scoring=make_scorer(mean_squared_error, squared=False))\n",
    "print(scores_cv['test_score'])\n",
    "sempad = np.mean(scores_cv['test_score'])\n",
    "print(f\"Sem padronização: {sempad}\")"
   ]
  },
  {
   "cell_type": "code",
   "execution_count": 204,
   "metadata": {},
   "outputs": [],
   "source": [
    "#Usando apenas Grid Search"
   ]
  },
  {
   "cell_type": "code",
   "execution_count": 205,
   "metadata": {},
   "outputs": [
    {
     "output_type": "execute_result",
     "data": {
      "text/plain": [
       "GridSearchCV(estimator=KNeighborsRegressor(),\n",
       "             param_grid={'n_neighbors': [3, 5, 7, 9]},\n",
       "             scoring=make_scorer(mean_squared_error, squared=False))"
      ]
     },
     "metadata": {},
     "execution_count": 205
    }
   ],
   "source": [
    "hiper_parametros = {'n_neighbors': [3,5,7,9]}\n",
    "\n",
    "grid_search_knn = GridSearchCV(classificador_knn , hiper_parametros, scoring=make_scorer(mean_squared_error, squared=False))\n",
    "grid_search_knn.fit(X, y)"
   ]
  },
  {
   "cell_type": "code",
   "execution_count": 206,
   "metadata": {},
   "outputs": [
    {
     "output_type": "execute_result",
     "data": {
      "text/plain": [
       "{'mean_fit_time': array([0.00299664, 0.00219698, 0.00119891, 0.00159888]),\n",
       " 'std_fit_time': array([0.00089346, 0.000747  , 0.00040035, 0.00048963]),\n",
       " 'mean_score_time': array([0.0059999 , 0.00479841, 0.00339856, 0.00319901]),\n",
       " 'std_score_time': array([0.00209742, 0.00146971, 0.00135661, 0.00074918]),\n",
       " 'param_n_neighbors': masked_array(data=[3, 5, 7, 9],\n",
       "              mask=[False, False, False, False],\n",
       "        fill_value='?',\n",
       "             dtype=object),\n",
       " 'params': [{'n_neighbors': 3},\n",
       "  {'n_neighbors': 5},\n",
       "  {'n_neighbors': 7},\n",
       "  {'n_neighbors': 9}],\n",
       " 'split0_test_score': array([58.07341774, 56.2778101 , 56.99180879, 56.19003238]),\n",
       " 'split1_test_score': array([67.43002106, 63.42066441, 62.93518794, 59.32108614]),\n",
       " 'split2_test_score': array([62.28861222, 59.63695849, 59.57483095, 59.00744094]),\n",
       " 'split3_test_score': array([62.02315061, 59.59086644, 55.63774296, 54.78238886]),\n",
       " 'split4_test_score': array([67.25015489, 61.70551029, 60.43146504, 57.37903883]),\n",
       " 'mean_test_score': array([63.41307131, 60.12636195, 59.11420714, 57.33599743]),\n",
       " 'std_test_score': array([3.53743647, 2.3951518 , 2.5743976 , 1.70706214]),\n",
       " 'rank_test_score': array([1, 2, 3, 4])}"
      ]
     },
     "metadata": {},
     "execution_count": 206
    }
   ],
   "source": [
    "grid_search_knn.cv_results_"
   ]
  },
  {
   "cell_type": "code",
   "execution_count": 207,
   "metadata": {},
   "outputs": [
    {
     "output_type": "execute_result",
     "data": {
      "text/plain": [
       "KNeighborsRegressor(n_neighbors=3)"
      ]
     },
     "metadata": {},
     "execution_count": 207
    }
   ],
   "source": [
    "grid_search_knn.best_estimator_"
   ]
  },
  {
   "cell_type": "code",
   "execution_count": 208,
   "metadata": {},
   "outputs": [],
   "source": [
    "#Usando Grid Search + Cross Validate"
   ]
  },
  {
   "cell_type": "code",
   "execution_count": 209,
   "metadata": {},
   "outputs": [
    {
     "output_type": "stream",
     "name": "stdout",
     "text": [
      "[58.07341774 67.43002106 62.28861222 62.02315061 67.25015489]\nSem padronização: 63.41307130519219\n"
     ]
    }
   ],
   "source": [
    "scores_cv_gs = cross_validate(grid_search_knn, X, y, scoring=make_scorer(mean_squared_error, squared=False), return_estimator=True)\n",
    "print(scores_cv_gs['test_score'])\n",
    "sempad = np.mean(scores_cv_gs['test_score'])\n",
    "print(f\"Sem padronização: {sempad}\")"
   ]
  },
  {
   "cell_type": "code",
   "execution_count": 210,
   "metadata": {},
   "outputs": [
    {
     "output_type": "execute_result",
     "data": {
      "text/plain": [
       "{'fit_time': array([0.2058692 , 0.10593581, 0.10093617, 0.10293818, 0.10093713]),\n",
       " 'score_time': array([0.00399637, 0.00199842, 0.00199819, 0.00299764, 0.0019989 ]),\n",
       " 'estimator': (GridSearchCV(estimator=KNeighborsRegressor(),\n",
       "               param_grid={'n_neighbors': [3, 5, 7, 9]},\n",
       "               scoring=make_scorer(mean_squared_error, squared=False)),\n",
       "  GridSearchCV(estimator=KNeighborsRegressor(),\n",
       "               param_grid={'n_neighbors': [3, 5, 7, 9]},\n",
       "               scoring=make_scorer(mean_squared_error, squared=False)),\n",
       "  GridSearchCV(estimator=KNeighborsRegressor(),\n",
       "               param_grid={'n_neighbors': [3, 5, 7, 9]},\n",
       "               scoring=make_scorer(mean_squared_error, squared=False)),\n",
       "  GridSearchCV(estimator=KNeighborsRegressor(),\n",
       "               param_grid={'n_neighbors': [3, 5, 7, 9]},\n",
       "               scoring=make_scorer(mean_squared_error, squared=False)),\n",
       "  GridSearchCV(estimator=KNeighborsRegressor(),\n",
       "               param_grid={'n_neighbors': [3, 5, 7, 9]},\n",
       "               scoring=make_scorer(mean_squared_error, squared=False))),\n",
       " 'test_score': array([58.07341774, 67.43002106, 62.28861222, 62.02315061, 67.25015489])}"
      ]
     },
     "metadata": {},
     "execution_count": 210
    }
   ],
   "source": [
    "scores_cv_gs"
   ]
  },
  {
   "cell_type": "code",
   "execution_count": 211,
   "metadata": {},
   "outputs": [
    {
     "output_type": "stream",
     "name": "stdout",
     "text": [
      "KNeighborsRegressor(n_neighbors=3)\nKNeighborsRegressor(n_neighbors=3)\nKNeighborsRegressor(n_neighbors=3)\nKNeighborsRegressor(n_neighbors=3)\nKNeighborsRegressor(n_neighbors=3)\n"
     ]
    }
   ],
   "source": [
    "for estimator in scores_cv_gs['estimator']:\n",
    "    print(estimator.best_estimator_)"
   ]
  },
  {
   "source": [
    "# Pipeline + GridSearch"
   ],
   "cell_type": "markdown",
   "metadata": {}
  },
  {
   "cell_type": "code",
   "execution_count": 214,
   "metadata": {},
   "outputs": [
    {
     "output_type": "stream",
     "name": "stdout",
     "text": [
      "[56.82092904 63.05450375 60.15515846 54.92728369 59.33477082]\nCom padronização: 58.858529150715086\n"
     ]
    }
   ],
   "source": [
    "#Com o Grid Search dentro do Pipeline\n",
    "parametros = {'n_neighbors': [3,5,7]}\n",
    "\n",
    "GridSearch_KNN = GridSearchCV(KNeighborsRegressor(), parametros, scoring='neg_root_mean_squared_error')\n",
    "\n",
    "pipeline = Pipeline([\n",
    "    (\"padronização\", StandardScaler()),\n",
    "    (\"gsknn\", GridSearch_KNN)\n",
    "])\n",
    "scores_cv_pipe = cross_validate(pipeline, X, y, scoring=make_scorer(mean_squared_error, squared=False))\n",
    "print(scores_cv_pipe['test_score'])\n",
    "compad = np.mean(scores_cv_pipe['test_score'])\n",
    "print(f\"Com padronização: {compad}\")"
   ]
  },
  {
   "cell_type": "code",
   "execution_count": 216,
   "metadata": {},
   "outputs": [
    {
     "output_type": "stream",
     "name": "stdout",
     "text": [
      "[56.82092904 63.05450375 60.15515846 54.92728369 59.33477082]\nCom padronização: 58.858529150715086\n"
     ]
    }
   ],
   "source": [
    "#Com o Pipeline dentro do Grid Search\n",
    "\n",
    "pipeline = Pipeline([\n",
    "    (\"padronização\", StandardScaler()),\n",
    "    (\"knn\", KNeighborsRegressor())\n",
    "])\n",
    "\n",
    "parametros = {'knn__n_neighbors': [3,5,7]}\n",
    "\n",
    "grid_search_pipeline = GridSearchCV(pipeline, parametros, scoring='neg_root_mean_squared_error')\n",
    "\n",
    "scores_cv_gs_pipe = cross_validate(grid_search_pipeline, X, y, scoring=make_scorer(mean_squared_error, squared=False))\n",
    "print(scores_cv_gs_pipe['test_score'])\n",
    "compad = np.mean(scores_cv_gs_pipe['test_score'])\n",
    "print(f\"Com padronização: {compad}\")"
   ]
  },
  {
   "cell_type": "code",
   "execution_count": null,
   "metadata": {},
   "outputs": [],
   "source": []
  }
 ]
}