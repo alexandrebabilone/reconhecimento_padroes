{
 "metadata": {
  "language_info": {
   "codemirror_mode": {
    "name": "ipython",
    "version": 3
   },
   "file_extension": ".py",
   "mimetype": "text/x-python",
   "name": "python",
   "nbconvert_exporter": "python",
   "pygments_lexer": "ipython3",
   "version": "3.8.3-final"
  },
  "orig_nbformat": 2,
  "kernelspec": {
   "name": "python3",
   "display_name": "Python 3.8.3 64-bit (conda)",
   "metadata": {
    "interpreter": {
     "hash": "b3ba2566441a7c06988d0923437866b63cedc61552a5af99d1f4fb67d367b25f"
    }
   }
  }
 },
 "nbformat": 4,
 "nbformat_minor": 2,
 "cells": [
  {
   "cell_type": "code",
   "execution_count": 292,
   "metadata": {},
   "outputs": [],
   "source": [
    "import numpy as np\n",
    "import pandas as pd\n",
    "from math import sqrt\n",
    "from sklearn.metrics import mean_squared_error, make_scorer\n",
    "from sklearn.model_selection import cross_validate\n",
    "from sklearn.neighbors import KNeighborsClassifier\n",
    "from sklearn.linear_model import LogisticRegression\n",
    "from sklearn.datasets import load_iris, load_diabetes\n",
    "from sklearn.model_selection import GridSearchCV\n",
    "from sklearn.preprocessing import StandardScaler\n",
    "from sklearn.pipeline import Pipeline\n",
    "from sklearn.preprocessing import LabelEncoder"
   ]
  },
  {
   "cell_type": "code",
   "execution_count": 293,
   "metadata": {},
   "outputs": [
    {
     "output_type": "execute_result",
     "data": {
      "text/plain": [
       "((303, 13), (303, 1))"
      ]
     },
     "metadata": {},
     "execution_count": 293
    }
   ],
   "source": [
    "\n",
    "caminho_dataset = \"heart.csv\"\n",
    "dados = pd.read_csv(caminho_dataset) \n",
    "\n",
    "X = dados.to_numpy()\n",
    "y = X[:, -1:]\n",
    "X = X[:, :-1]\n",
    "\n",
    "X.shape, y.shape"
   ]
  },
  {
   "cell_type": "code",
   "execution_count": 294,
   "metadata": {},
   "outputs": [
    {
     "output_type": "execute_result",
     "data": {
      "text/plain": [
       "'\\n#A base de dados está em: https://www.kaggle.com/spscientist/students-performance-in-exams\\ncaminho_dataset = \"StudentsPerformance.csv\"\\ndados = pd.read_csv(caminho_dataset) \\n\\n#transformando \"math_score\" em classes de avaliação\\ndef math_score_to_class(x):\\n    if x <= 59:\\n        return 0    \\n    else:\\n        return 1\\n\\ndados[\"math score\"] = dados[\"math score\"].apply(math_score_to_class)\\n\\n\\nX = dados.to_numpy()\\ny = X[:,5:6]\\nX = X[:,:5]\\n\\ny = y.astype(\\'int\\')\\ny = y.ravel()\\n\\nlabel_encoder = LabelEncoder()\\n\\n#transformando \"Gender\" em número inteiro\\nX[:,0:1] = label_encoder.fit_transform(X[:,0:1]).reshape(X.shape[0], 1)\\n\\n#transformando \"race/ethnicity\" em número inteiro\\nX[:,1:2] = label_encoder.fit_transform(X[:,1:2]).reshape(X.shape[0], 1)\\n\\n#transformando \"parental level of education\" em número inteiro\\nX[:,2:3] = label_encoder.fit_transform(X[:,2:3]).reshape(X.shape[0], 1)\\n\\n#transformando \"lunch\" em número inteiro\\nX[:,3:4] = label_encoder.fit_transform(X[:,3:4]).reshape(X.shape[0], 1)\\n\\n#transformando \"test preparation course\" em número inteiro\\nX[:,4:5] = label_encoder.fit_transform(X[:,4:5]).reshape(X.shape[0], 1)\\n'"
      ]
     },
     "metadata": {},
     "execution_count": 294
    }
   ],
   "source": [
    "'''\n",
    "#A base de dados está em: https://www.kaggle.com/spscientist/students-performance-in-exams\n",
    "caminho_dataset = \"StudentsPerformance.csv\"\n",
    "dados = pd.read_csv(caminho_dataset) \n",
    "\n",
    "#transformando \"math_score\" em classes de avaliação\n",
    "def math_score_to_class(x):\n",
    "    if x <= 59:\n",
    "        return 0    \n",
    "    else:\n",
    "        return 1\n",
    "\n",
    "dados[\"math score\"] = dados[\"math score\"].apply(math_score_to_class)\n",
    "\n",
    "\n",
    "X = dados.to_numpy()\n",
    "y = X[:,5:6]\n",
    "X = X[:,:5]\n",
    "\n",
    "y = y.astype('int')\n",
    "y = y.ravel()\n",
    "\n",
    "label_encoder = LabelEncoder()\n",
    "\n",
    "#transformando \"Gender\" em número inteiro\n",
    "X[:,0:1] = label_encoder.fit_transform(X[:,0:1]).reshape(X.shape[0], 1)\n",
    "\n",
    "#transformando \"race/ethnicity\" em número inteiro\n",
    "X[:,1:2] = label_encoder.fit_transform(X[:,1:2]).reshape(X.shape[0], 1)\n",
    "\n",
    "#transformando \"parental level of education\" em número inteiro\n",
    "X[:,2:3] = label_encoder.fit_transform(X[:,2:3]).reshape(X.shape[0], 1)\n",
    "\n",
    "#transformando \"lunch\" em número inteiro\n",
    "X[:,3:4] = label_encoder.fit_transform(X[:,3:4]).reshape(X.shape[0], 1)\n",
    "\n",
    "#transformando \"test preparation course\" em número inteiro\n",
    "X[:,4:5] = label_encoder.fit_transform(X[:,4:5]).reshape(X.shape[0], 1)\n",
    "'''"
   ]
  },
  {
   "source": [
    "# Usando apenas Validação Cruzada - KNN e Logistic Regression"
   ],
   "cell_type": "markdown",
   "metadata": {}
  },
  {
   "cell_type": "code",
   "execution_count": 295,
   "metadata": {},
   "outputs": [
    {
     "output_type": "stream",
     "name": "stdout",
     "text": [
      "[0.70967742 0.67741935 0.5483871  0.63333333 0.63333333 0.56666667\n 0.76666667 0.7        0.53333333 0.76666667]\nAcurácia: 0.6535483870967742\n"
     ]
    }
   ],
   "source": [
    "classificador_knn = KNeighborsClassifier()\n",
    "\n",
    "scores_cv = cross_validate(classificador_knn, X, y, scoring='accuracy', cv=10)\n",
    "print(scores_cv['test_score'])\n",
    "sempad = np.mean(scores_cv['test_score'])    \n",
    "print(f\"Acurácia: {sempad}\")"
   ]
  },
  {
   "cell_type": "code",
   "execution_count": 296,
   "metadata": {},
   "outputs": [
    {
     "output_type": "stream",
     "name": "stdout",
     "text": [
      "[0.87096774 0.80645161 0.83870968 0.9        0.9        0.86666667\n 0.83333333 0.86666667 0.7        0.73333333]\nAcurácia: 0.8316129032258065\n"
     ]
    }
   ],
   "source": [
    "classificador_logreg = LogisticRegression()\n",
    "\n",
    "scores_cv = cross_validate(classificador_logreg, X, y, scoring='accuracy', cv=10)\n",
    "print(scores_cv['test_score'])\n",
    "sempad = np.mean(scores_cv['test_score'])\n",
    "print(f\"Acurácia: {sempad}\")"
   ]
  },
  {
   "source": [
    "# Usando Pipeline(com padronização dos dados) dentro do Grid Search - KNN e Logistic Regression"
   ],
   "cell_type": "markdown",
   "metadata": {}
  },
  {
   "cell_type": "code",
   "execution_count": 297,
   "metadata": {},
   "outputs": [
    {
     "output_type": "stream",
     "name": "stdout",
     "text": [
      "[0.87096774 0.80645161 0.80645161 0.86666667 0.83333333 0.76666667\n 0.9        0.83333333 0.7        0.73333333]\nAcurácia: 0.8117204301075269\n"
     ]
    }
   ],
   "source": [
    "pipeline = Pipeline([\n",
    "    (\"padronização\", StandardScaler()),\n",
    "    (\"knn\", classificador_knn)\n",
    "])\n",
    "\n",
    "parametros = {'knn__n_neighbors': [3,5,7]}\n",
    "\n",
    "grid_search_pipeline = GridSearchCV(pipeline, parametros, scoring='accuracy')\n",
    "\n",
    "scores_cv_gs_pipe = cross_validate(grid_search_pipeline, X, y, scoring='accuracy', cv=10)\n",
    "print(scores_cv_gs_pipe['test_score'])\n",
    "compad = np.mean(scores_cv_gs_pipe['test_score'])\n",
    "print(f\"Acurácia: {compad}\")"
   ]
  },
  {
   "cell_type": "code",
   "execution_count": 298,
   "metadata": {},
   "outputs": [
    {
     "output_type": "stream",
     "name": "stdout",
     "text": [
      "[0.87096774 0.80645161 0.83870968 0.86666667 0.86666667 0.83333333\n 0.86666667 0.83333333 0.7        0.73333333]\nAcurácia: 0.8216129032258065\n"
     ]
    }
   ],
   "source": [
    "pipeline = Pipeline([\n",
    "    (\"padronização\", StandardScaler()),\n",
    "    (\"logreg\", classificador_logreg)\n",
    "])\n",
    "\n",
    "\n",
    "parametros = {'logreg__C': [0.01, 0.1, 1, 10, 100, 1000, 10000] }\n",
    "\n",
    "grid_search_pipeline = GridSearchCV(pipeline, parametros, scoring='accuracy')\n",
    "\n",
    "scores_cv_gs_pipe = cross_validate(grid_search_pipeline, X, y, scoring='accuracy', cv=10)\n",
    "print(scores_cv_gs_pipe['test_score'])\n",
    "compad = np.mean(scores_cv_gs_pipe['test_score'])\n",
    "print(f\"Acurácia: {compad}\")"
   ]
  },
  {
   "source": [
    "No KNeighborsClassifier, a padronização dos dados contribuiu muito para um salto na acurácia. Já no LogisticRegression, usando Pipeline + GridSearch + padronização dos dados, a acurácia diminuiu em relação ao cross_validate sozinho.  \n",
    "\n",
    "Troquei a base de dados pois 100% de acurácia já havia sido alcançado pelo LogisticRegression."
   ],
   "cell_type": "markdown",
   "metadata": {}
  }
 ]
}