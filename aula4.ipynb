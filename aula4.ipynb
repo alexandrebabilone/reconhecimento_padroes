{
 "metadata": {
  "language_info": {
   "codemirror_mode": {
    "name": "ipython",
    "version": 3
   },
   "file_extension": ".py",
   "mimetype": "text/x-python",
   "name": "python",
   "nbconvert_exporter": "python",
   "pygments_lexer": "ipython3",
   "version": "3.8.3-final"
  },
  "orig_nbformat": 2,
  "kernelspec": {
   "name": "python3",
   "display_name": "Python 3.8.3 64-bit (conda)",
   "metadata": {
    "interpreter": {
     "hash": "b3ba2566441a7c06988d0923437866b63cedc61552a5af99d1f4fb67d367b25f"
    }
   }
  }
 },
 "nbformat": 4,
 "nbformat_minor": 2,
 "cells": [
  {
   "cell_type": "code",
   "execution_count": 15,
   "metadata": {},
   "outputs": [
    {
     "output_type": "execute_result",
     "data": {
      "text/plain": [
       "((1000, 5), (1000,))"
      ]
     },
     "metadata": {},
     "execution_count": 15
    }
   ],
   "source": [
    "import numpy as np\n",
    "import pandas as pd\n",
    "from math import sqrt\n",
    "from sklearn.metrics import mean_squared_error, make_scorer\n",
    "from sklearn.model_selection import cross_validate\n",
    "from sklearn.neighbors import KNeighborsRegressor\n",
    "from sklearn.linear_model import LogisticRegression\n",
    "from sklearn.datasets import load_iris, load_diabetes\n",
    "from sklearn.model_selection import GridSearchCV\n",
    "from sklearn.preprocessing import StandardScaler\n",
    "from sklearn.pipeline import Pipeline\n",
    "from sklearn.preprocessing import LabelEncoder\n",
    "\n",
    "#A base de dados está em: https://www.kaggle.com/spscientist/students-performance-in-exams\n",
    "caminho_dataset = \"StudentsPerformance.csv\"\n",
    "dados = pd.read_csv(caminho_dataset) \n",
    "\n",
    "#transformando \"math_score\" em classes de avaliação\n",
    "def math_score_to_class(x):\n",
    "    if x <= 33:\n",
    "        return 0\n",
    "    elif 34 <= x <= 66:\n",
    "        return 1\n",
    "    else:\n",
    "        return 2\n",
    "\n",
    "dados[\"math score\"] = dados[\"math score\"].apply(math_score_to_class)\n",
    "\n",
    "\n",
    "X = dados.to_numpy()\n",
    "y = X[:,5:6]\n",
    "X = X[:,:5]\n",
    "\n",
    "y = y.astype('int')\n",
    "y = y.ravel()\n",
    "\n",
    "label_encoder = LabelEncoder()\n",
    "\n",
    "#transformando \"Gender\" em número inteiro\n",
    "X[:,0:1] = label_encoder.fit_transform(X[:,0:1]).reshape(X.shape[0], 1)\n",
    "\n",
    "#transformando \"race/ethnicity\" em número inteiro\n",
    "X[:,1:2] = label_encoder.fit_transform(X[:,1:2]).reshape(X.shape[0], 1)\n",
    "\n",
    "#transformando \"parental level of education\" em número inteiro\n",
    "X[:,2:3] = label_encoder.fit_transform(X[:,2:3]).reshape(X.shape[0], 1)\n",
    "\n",
    "#transformando \"lunch\" em número inteiro\n",
    "X[:,3:4] = label_encoder.fit_transform(X[:,3:4]).reshape(X.shape[0], 1)\n",
    "\n",
    "#transformando \"test preparation course\" em número inteiro\n",
    "X[:,4:5] = label_encoder.fit_transform(X[:,4:5]).reshape(X.shape[0], 1)\n",
    "X.shape, y.shape"
   ]
  },
  {
   "source": [
    "# Usando apenas Validação Cruzada - KNN e Logistic Regression"
   ],
   "cell_type": "markdown",
   "metadata": {}
  },
  {
   "cell_type": "code",
   "execution_count": 16,
   "metadata": {},
   "outputs": [
    {
     "output_type": "stream",
     "name": "stdout",
     "text": [
      "[-0.60860496 -0.53216539 -0.50990195 -0.54       -0.48124838 -0.51884487\n -0.57306195 -0.53478968 -0.59025418 -0.53851648]\nSem padronização: -0.5427387841645965\n"
     ]
    }
   ],
   "source": [
    "classificador_knn = KNeighborsRegressor()\n",
    "\n",
    "scores_cv = cross_validate(classificador_knn, X, y, scoring=make_scorer(mean_squared_error, greater_is_better=False, squared=False), cv=10)\n",
    "print(scores_cv['test_score'])\n",
    "sempad = np.mean(scores_cv['test_score'])\n",
    "print(f\"Sem padronização: {sempad}\")"
   ]
  },
  {
   "cell_type": "code",
   "execution_count": 17,
   "metadata": {},
   "outputs": [
    {
     "output_type": "stream",
     "name": "stdout",
     "text": [
      "[-0.6        -0.58309519 -0.6244998  -0.58309519 -0.58309519 -0.53851648\n -0.60827625 -0.6164414  -0.65574385 -0.6       ]\nSem padronização: -0.5992763354763799\n"
     ]
    }
   ],
   "source": [
    "classificador_logreg = LogisticRegression()\n",
    "\n",
    "scores_cv = cross_validate(classificador_logreg, X, y, scoring=make_scorer(mean_squared_error, greater_is_better=False, squared=False), cv=10)\n",
    "print(scores_cv['test_score'])\n",
    "sempad = np.mean(scores_cv['test_score'])\n",
    "print(f\"Sem padronização: {sempad}\")"
   ]
  },
  {
   "source": [
    "# Usando Pipeline(com padronização dos dados) dentro do Grid Search - KNN e Logistic Regression"
   ],
   "cell_type": "markdown",
   "metadata": {}
  },
  {
   "cell_type": "code",
   "execution_count": 18,
   "metadata": {},
   "outputs": [
    {
     "output_type": "stream",
     "name": "stdout",
     "text": [
      "[-0.59556182 -0.49010619 -0.51269596 -0.53832696 -0.46445052 -0.53623784\n -0.5331845  -0.52779866 -0.54697685 -0.53107515]\nErro quadrático médio: -0.5276414454843148\n"
     ]
    }
   ],
   "source": [
    "pipeline = Pipeline([\n",
    "    (\"padronização\", StandardScaler()),\n",
    "    (\"knn\", classificador_knn)\n",
    "])\n",
    "\n",
    "parametros = {'knn__n_neighbors': [3,5,7]}\n",
    "\n",
    "grid_search_pipeline = GridSearchCV(pipeline, parametros, scoring='neg_root_mean_squared_error')\n",
    "\n",
    "scores_cv_gs_pipe = cross_validate(grid_search_pipeline, X, y, scoring=make_scorer(mean_squared_error, greater_is_better=False, squared=False), cv=10)\n",
    "print(scores_cv_gs_pipe['test_score'])\n",
    "compad = np.mean(scores_cv_gs_pipe['test_score'])\n",
    "print(f\"Erro quadrático médio: {compad}\")"
   ]
  },
  {
   "cell_type": "code",
   "execution_count": 19,
   "metadata": {},
   "outputs": [
    {
     "output_type": "stream",
     "name": "stdout",
     "text": [
      "[-0.6        -0.58309519 -0.6244998  -0.58309519 -0.58309519 -0.53851648\n -0.60827625 -0.6164414  -0.65574385 -0.6       ]\nErro quadrático médio: -0.5992763354763799\n"
     ]
    }
   ],
   "source": [
    "pipeline = Pipeline([\n",
    "    (\"padronização\", StandardScaler()),\n",
    "    (\"logreg\", classificador_logreg)\n",
    "])\n",
    "\n",
    "\n",
    "parametros = {'logreg__C': [0.001, 0.01, 0.1, 1, 10, 100, 1000] }\n",
    "\n",
    "grid_search_pipeline = GridSearchCV(pipeline, parametros, scoring='neg_root_mean_squared_error')\n",
    "\n",
    "scores_cv_gs_pipe = cross_validate(grid_search_pipeline, X, y, scoring=make_scorer(mean_squared_error, greater_is_better=False, squared=False), cv=10)\n",
    "print(scores_cv_gs_pipe['test_score'])\n",
    "compad = np.mean(scores_cv_gs_pipe['test_score'])\n",
    "print(f\"Erro quadrático médio: {compad}\")"
   ]
  },
  {
   "source": [
    "O melhor desempenho foi do KNN, com a padronização dos dados sendo feita dentro do Pipeline, que por sua vez está dentro do Grid Search."
   ],
   "cell_type": "markdown",
   "metadata": {}
  }
 ]
}