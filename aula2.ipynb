{
 "cells": [
  {
   "cell_type": "code",
   "execution_count": 135,
   "metadata": {
    "colab": {
     "base_uri": "https://localhost:8080/"
    },
    "id": "CWhZlxczsKSd",
    "outputId": "726fef51-78cd-4d8c-c8cd-9d7a22f3fa5c"
   },
   "outputs": [],
   "source": [
    "import numpy as np\n",
    "import pandas as pd\n",
    "import matplotlib.pylab as plt\n",
    "from sklearn.linear_model import LinearRegression\n",
    "from sklearn.metrics import mean_squared_error\n",
    "\n",
    "#Devido a falta de tempo e conhecimento, ajustei limpei manualmente a base de dados\n",
    "#A base de dados original está em: https://www.kaggle.com/karangadiya/fifa19\n",
    "#E a base de dados ajustada está aqui no github\n",
    "caminho_dataset = \"fifa19_ajustado.csv\"\n",
    "dados = pd.read_csv(caminho_dataset) \n",
    "x = dados.to_numpy()\n",
    "#print(x.shape)"
   ]
  },
  {
   "cell_type": "code",
   "execution_count": 136,
   "metadata": {
    "colab": {
     "base_uri": "https://localhost:8080/"
    },
    "id": "g7wsU_DYsKSn",
    "outputId": "e27d72f3-4788-46b1-c9e3-6202122dc78c"
   },
   "outputs": [
    {
     "name": "stdout",
     "output_type": "stream",
     "text": [
      "MSE: 20528.167773489007\n",
      "Intercept:  [-35.40083762]\n"
     ]
    }
   ],
   "source": [
    "\n",
    "X = x[:,:-1]\n",
    "y = x[:,-1:]\n",
    "\n",
    "modelo = LinearRegression()\n",
    "modelo.fit(X, y)\n",
    "ypred = modelo.predict(X)\n",
    "print(\"MSE:\", mean_squared_error(y, ypred))\n",
    "print(\"Intercept: \", modelo.intercept_)\n",
    "#print(\"Coef: \", modelo.coef_)\n",
    "#print(X.shape, y.shape, ypred.shape)"
   ]
  },
  {
   "cell_type": "code",
   "execution_count": 137,
   "metadata": {
    "id": "omGpHKvxsKSz"
   },
   "outputs": [],
   "source": [
    "w0 = np.linspace(-39, -31, 30) #30 a 100 amostras #w0 variação do intercept\n",
    "#w1 = np.linspace(-1, -0, 3) #30 a 100 amostras  #w1 coef\n",
    "Erro = np.empty(w0.shape)\n",
    "\n",
    "#print(w0.shape[0])\n",
    "#print(range(w0.shape[0]))\n",
    "\n",
    "for i in range(w0.shape[0]):\n",
    "  modelo.intercept_ = w0[i]\n",
    "  ypred = modelo.predict(X)  \n",
    "  Erro[i] = mean_squared_error(y, ypred)\n",
    "\n"
   ]
  },
  {
   "cell_type": "code",
   "execution_count": 138,
   "metadata": {
    "colab": {
     "base_uri": "https://localhost:8080/",
     "height": 279
    },
    "id": "jqUEo89IsKSu",
    "outputId": "db0fde9a-631f-4717-a7cb-2e8c82c9e682"
   },
   "outputs": [
    {
     "data": {
      "image/png": "[encoded data removed]",
      "text/plain": [
       "<Figure size 432x288 with 1 Axes>"
      ]
     },
     "metadata": {
      "needs_background": "light"
     },
     "output_type": "display_data"
    }
   ],
   "source": [
    "plt.ylabel(\"Erro\")\n",
    "plt.xlabel(\"Intercept\")\n",
    "plt.plot(w0, Erro, 'b')\n",
    "plt.show()"
   ]
  },
  {
   "cell_type": "code",
   "execution_count": 139,
   "metadata": {
    "id": "EHEIeyRysKS7"
   },
   "outputs": [],
   "source": [
    "#print(Erro)\n",
    "#print(w0)"
   ]
  }
 ],
 "metadata": {
  "colab": {
   "name": "aula2.ipynb",
   "provenance": []
  },
  "kernelspec": {
   "display_name": "Python 3",
   "language": "python",
   "name": "python3"
  },
  "language_info": {
   "codemirror_mode": {
    "name": "ipython",
    "version": 3
   },
   "file_extension": ".py",
   "mimetype": "text/x-python",
   "name": "python",
   "nbconvert_exporter": "python",
   "pygments_lexer": "ipython3",
   "version": "3.8.3"
  }
 },
 "nbformat": 4,
 "nbformat_minor": 1
}
